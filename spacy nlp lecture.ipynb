{
 "cells": [
  {
   "cell_type": "code",
   "execution_count": 1,
   "metadata": {},
   "outputs": [
    {
     "name": "stdout",
     "output_type": "stream",
     "text": [
      "Collecting en_core_web_sm==2.2.5 from https://github.com/explosion/spacy-models/releases/download/en_core_web_sm-2.2.5/en_core_web_sm-2.2.5.tar.gz#egg=en_core_web_sm==2.2.5\n",
      "\u001b[?25l  Downloading https://github.com/explosion/spacy-models/releases/download/en_core_web_sm-2.2.5/en_core_web_sm-2.2.5.tar.gz (12.0MB)\n",
      "\u001b[K     |████████████████████████████████| 12.0MB 1.9MB/s eta 0:00:01\n"
     ]
    }
   ],
   "source": [
    "!pip install spacy"
   ]
  },
  {
   "cell_type": "code",
   "execution_count": 2,
   "metadata": {},
   "outputs": [
    {
     "name": "stdout",
     "output_type": "stream",
     "text": [
      "Collecting en_core_web_lg==2.2.5 from https://github.com/explosion/spacy-models/releases/download/en_core_web_lg-2.2.5/en_core_web_lg-2.2.5.tar.gz#egg=en_core_web_lg==2.2.5\n",
      "\u001b[?25l  Downloading https://github.com/explosion/spacy-models/releases/download/en_core_web_lg-2.2.5/en_core_web_lg-2.2.5.tar.gz (827.9MB)\n",
      "\u001b[K     |████████████████████████████████| 827.9MB 7.2MB/s eta 0:00:012    |███▊                            | 95.7MB 9.9MB/s eta 0:01:15     |███████████████████▍            | 501.1MB 8.6MB/s eta 0:00:38     |███████████████████████████▊    | 717.0MB 5.1MB/s eta 0:00:22\n"
     ]
    }
   ],
   "source": [
    "!python -m spacy download en_core_web_lg"
   ]
  },
  {
   "cell_type": "code",
   "execution_count": 1,
   "metadata": {},
   "outputs": [],
   "source": [
    "import spacy\n",
    "import pandas as pd\n",
    "import numpy as np\n",
    "from tqdm import tqdm"
   ]
  },
  {
   "cell_type": "code",
   "execution_count": 2,
   "metadata": {},
   "outputs": [
    {
     "name": "stderr",
     "output_type": "stream",
     "text": [
      "/Users/mwasserman/.pyenv/versions/anaconda3-2019.10/lib/python3.7/site-packages/tqdm/std.py:648: FutureWarning: The Panel class is removed from pandas. Accessing it from the top-level namespace will also be removed in the next version\n",
      "  from pandas import Panel\n"
     ]
    }
   ],
   "source": [
    "tqdm.pandas()"
   ]
  },
  {
   "cell_type": "code",
   "execution_count": 3,
   "metadata": {},
   "outputs": [],
   "source": [
    "from spacy.lang.en import English"
   ]
  },
  {
   "cell_type": "code",
   "execution_count": 4,
   "metadata": {},
   "outputs": [],
   "source": [
    "df = pd.read_csv(\"yelp.csv\")"
   ]
  },
  {
   "cell_type": "code",
   "execution_count": 5,
   "metadata": {},
   "outputs": [
    {
     "data": {
      "text/html": [
       "<div>\n",
       "<style scoped>\n",
       "    .dataframe tbody tr th:only-of-type {\n",
       "        vertical-align: middle;\n",
       "    }\n",
       "\n",
       "    .dataframe tbody tr th {\n",
       "        vertical-align: top;\n",
       "    }\n",
       "\n",
       "    .dataframe thead th {\n",
       "        text-align: right;\n",
       "    }\n",
       "</style>\n",
       "<table border=\"1\" class=\"dataframe\">\n",
       "  <thead>\n",
       "    <tr style=\"text-align: right;\">\n",
       "      <th></th>\n",
       "      <th>business_id</th>\n",
       "      <th>date</th>\n",
       "      <th>review_id</th>\n",
       "      <th>stars</th>\n",
       "      <th>text</th>\n",
       "      <th>type</th>\n",
       "      <th>user_id</th>\n",
       "      <th>cool</th>\n",
       "      <th>useful</th>\n",
       "      <th>funny</th>\n",
       "    </tr>\n",
       "  </thead>\n",
       "  <tbody>\n",
       "    <tr>\n",
       "      <th>0</th>\n",
       "      <td>9yKzy9PApeiPPOUJEtnvkg</td>\n",
       "      <td>2011-01-26</td>\n",
       "      <td>fWKvX83p0-ka4JS3dc6E5A</td>\n",
       "      <td>5</td>\n",
       "      <td>My wife took me here on my birthday for breakf...</td>\n",
       "      <td>review</td>\n",
       "      <td>rLtl8ZkDX5vH5nAx9C3q5Q</td>\n",
       "      <td>2</td>\n",
       "      <td>5</td>\n",
       "      <td>0</td>\n",
       "    </tr>\n",
       "    <tr>\n",
       "      <th>1</th>\n",
       "      <td>ZRJwVLyzEJq1VAihDhYiow</td>\n",
       "      <td>2011-07-27</td>\n",
       "      <td>IjZ33sJrzXqU-0X6U8NwyA</td>\n",
       "      <td>5</td>\n",
       "      <td>I have no idea why some people give bad review...</td>\n",
       "      <td>review</td>\n",
       "      <td>0a2KyEL0d3Yb1V6aivbIuQ</td>\n",
       "      <td>0</td>\n",
       "      <td>0</td>\n",
       "      <td>0</td>\n",
       "    </tr>\n",
       "    <tr>\n",
       "      <th>2</th>\n",
       "      <td>6oRAC4uyJCsJl1X0WZpVSA</td>\n",
       "      <td>2012-06-14</td>\n",
       "      <td>IESLBzqUCLdSzSqm0eCSxQ</td>\n",
       "      <td>4</td>\n",
       "      <td>love the gyro plate. Rice is so good and I als...</td>\n",
       "      <td>review</td>\n",
       "      <td>0hT2KtfLiobPvh6cDC8JQg</td>\n",
       "      <td>0</td>\n",
       "      <td>1</td>\n",
       "      <td>0</td>\n",
       "    </tr>\n",
       "    <tr>\n",
       "      <th>3</th>\n",
       "      <td>_1QQZuf4zZOyFCvXc0o6Vg</td>\n",
       "      <td>2010-05-27</td>\n",
       "      <td>G-WvGaISbqqaMHlNnByodA</td>\n",
       "      <td>5</td>\n",
       "      <td>Rosie, Dakota, and I LOVE Chaparral Dog Park!!...</td>\n",
       "      <td>review</td>\n",
       "      <td>uZetl9T0NcROGOyFfughhg</td>\n",
       "      <td>1</td>\n",
       "      <td>2</td>\n",
       "      <td>0</td>\n",
       "    </tr>\n",
       "    <tr>\n",
       "      <th>4</th>\n",
       "      <td>6ozycU1RpktNG2-1BroVtw</td>\n",
       "      <td>2012-01-05</td>\n",
       "      <td>1uJFq2r5QfJG_6ExMRCaGw</td>\n",
       "      <td>5</td>\n",
       "      <td>General Manager Scott Petello is a good egg!!!...</td>\n",
       "      <td>review</td>\n",
       "      <td>vYmM4KTsC8ZfQBg-j5MWkw</td>\n",
       "      <td>0</td>\n",
       "      <td>0</td>\n",
       "      <td>0</td>\n",
       "    </tr>\n",
       "  </tbody>\n",
       "</table>\n",
       "</div>"
      ],
      "text/plain": [
       "              business_id        date               review_id  stars  \\\n",
       "0  9yKzy9PApeiPPOUJEtnvkg  2011-01-26  fWKvX83p0-ka4JS3dc6E5A      5   \n",
       "1  ZRJwVLyzEJq1VAihDhYiow  2011-07-27  IjZ33sJrzXqU-0X6U8NwyA      5   \n",
       "2  6oRAC4uyJCsJl1X0WZpVSA  2012-06-14  IESLBzqUCLdSzSqm0eCSxQ      4   \n",
       "3  _1QQZuf4zZOyFCvXc0o6Vg  2010-05-27  G-WvGaISbqqaMHlNnByodA      5   \n",
       "4  6ozycU1RpktNG2-1BroVtw  2012-01-05  1uJFq2r5QfJG_6ExMRCaGw      5   \n",
       "\n",
       "                                                text    type  \\\n",
       "0  My wife took me here on my birthday for breakf...  review   \n",
       "1  I have no idea why some people give bad review...  review   \n",
       "2  love the gyro plate. Rice is so good and I als...  review   \n",
       "3  Rosie, Dakota, and I LOVE Chaparral Dog Park!!...  review   \n",
       "4  General Manager Scott Petello is a good egg!!!...  review   \n",
       "\n",
       "                  user_id  cool  useful  funny  \n",
       "0  rLtl8ZkDX5vH5nAx9C3q5Q     2       5      0  \n",
       "1  0a2KyEL0d3Yb1V6aivbIuQ     0       0      0  \n",
       "2  0hT2KtfLiobPvh6cDC8JQg     0       1      0  \n",
       "3  uZetl9T0NcROGOyFfughhg     1       2      0  \n",
       "4  vYmM4KTsC8ZfQBg-j5MWkw     0       0      0  "
      ]
     },
     "execution_count": 5,
     "metadata": {},
     "output_type": "execute_result"
    }
   ],
   "source": [
    "df.head()"
   ]
  },
  {
   "cell_type": "code",
   "execution_count": 6,
   "metadata": {},
   "outputs": [],
   "source": [
    "nlp = spacy.load(\"en_trf_bertbaseuncased_lg\")"
   ]
  },
  {
   "cell_type": "code",
   "execution_count": 7,
   "metadata": {},
   "outputs": [],
   "source": [
    "#filtering stop words\n",
    "from spacy.lang.en.stop_words import STOP_WORDS\n",
    "\n",
    "def filter_stop_words(document, stop_words):\n",
    "    '''takes in a document of tokenized text and returns\n",
    "    a filtered document without stopwords'''\n",
    "    return [word for word in document if str(word) not in stop_words]"
   ]
  },
  {
   "cell_type": "code",
   "execution_count": 8,
   "metadata": {},
   "outputs": [
    {
     "name": "stderr",
     "output_type": "stream",
     "text": [
      "100%|██████████| 10000/10000 [00:00<00:00, 80343.88it/s]\n"
     ]
    }
   ],
   "source": [
    "df['tokens'] = df.text.progress_apply(lambda x: x.split())"
   ]
  },
  {
   "cell_type": "code",
   "execution_count": 29,
   "metadata": {},
   "outputs": [
    {
     "name": "stderr",
     "output_type": "stream",
     "text": [
      "100%|██████████| 10000/10000 [00:00<00:00, 41092.63it/s]\n"
     ]
    }
   ],
   "source": [
    "df['filtered_text'] = df.tokens.progress_apply(lambda x: filter_stop_words(x, STOP_WORDS))"
   ]
  },
  {
   "cell_type": "code",
   "execution_count": 9,
   "metadata": {},
   "outputs": [
    {
     "name": "stderr",
     "output_type": "stream",
     "text": [
      "100%|██████████| 10000/10000 [1:12:10<00:00,  2.31it/s]\n"
     ]
    }
   ],
   "source": [
    "df['spacy'] = df.tokens.progress_apply(lambda x: nlp(' '.join(x)))"
   ]
  },
  {
   "cell_type": "code",
   "execution_count": 10,
   "metadata": {},
   "outputs": [
    {
     "data": {
      "text/plain": [
       "My wife took me here on my birthday for breakfast and it was excellent. The weather was perfect which made sitting outside overlooking their grounds an absolute pleasure. Our waitress was excellent and our food arrived quickly on the semi-busy Saturday morning. It looked like the place fills up pretty quickly so the earlier you get here the better. Do yourself a favor and get their Bloody Mary. It was phenomenal and simply the best I've ever had. I'm pretty sure they only use ingredients from their garden and blend them fresh when you order it. It was amazing. While EVERYTHING on the menu looks excellent, I had the white truffle scrambled eggs vegetable skillet and it was tasty and delicious. It came with 2 pieces of their griddled bread with was amazing and it absolutely made the meal complete. It was the best \"toast\" I've ever had. Anyway, I can't wait to go back!"
      ]
     },
     "execution_count": 10,
     "metadata": {},
     "output_type": "execute_result"
    }
   ],
   "source": [
    "doc = df.spacy[0]\n",
    "doc"
   ]
  },
  {
   "cell_type": "code",
   "execution_count": 32,
   "metadata": {},
   "outputs": [
    {
     "data": {
      "text/plain": [
       "My wife took birthday breakfast excellent. The weather perfect sitting outside overlooking grounds absolute pleasure. Our waitress excellent food arrived quickly semi-busy Saturday morning. It looked like place fills pretty quickly earlier better. Do favor Bloody Mary. It phenomenal simply best I've"
      ]
     },
     "execution_count": 32,
     "metadata": {},
     "output_type": "execute_result"
    }
   ],
   "source": [
    "#acts as a list (can itterate range etc)\n",
    "doc[:50]"
   ]
  },
  {
   "cell_type": "code",
   "execution_count": 11,
   "metadata": {},
   "outputs": [
    {
     "data": {
      "text/plain": [
       "'My wife took me here on my birthday for breakfast and it was excellent . The weather was perfect which made sitting outside overlooking their grounds an absolute pleasure . Our waitress was excellent and our food arrived quickly on the semi - busy Saturday morning . It looked like'"
      ]
     },
     "execution_count": 11,
     "metadata": {},
     "output_type": "execute_result"
    }
   ],
   "source": [
    "#lemmatize (word or range)\n",
    "doc[:50].lemma_"
   ]
  },
  {
   "cell_type": "code",
   "execution_count": 37,
   "metadata": {},
   "outputs": [
    {
     "data": {
      "text/plain": [
       "0.9707812608337262"
      ]
     },
     "execution_count": 37,
     "metadata": {},
     "output_type": "execute_result"
    }
   ],
   "source": [
    "#document(or word similarity) cosine\n",
    "doc.similarity(df.spacy[1])"
   ]
  },
  {
   "cell_type": "code",
   "execution_count": 12,
   "metadata": {},
   "outputs": [
    {
     "data": {
      "text/plain": [
       "0.9459664794040578"
      ]
     },
     "execution_count": 12,
     "metadata": {},
     "output_type": "execute_result"
    }
   ],
   "source": [
    "#document(or word similarity) cosine\n",
    "doc.similarity(df.spacy[1])"
   ]
  },
  {
   "cell_type": "code",
   "execution_count": 13,
   "metadata": {},
   "outputs": [
    {
     "data": {
      "text/plain": [
       "My wife took me here on my birthday for breakfast and it was excellent. The weather was perfect which made sitting outside overlooking their grounds an absolute pleasure. Our waitress was excellent and our food arrived quickly on the semi-busy Saturday morning. It looked like the place fills up pretty quickly so the earlier you get here the better. Do yourself a favor and get their Bloody Mary. It was phenomenal and simply the best I've ever had. I'm pretty sure they only use ingredients from their garden and blend them fresh when you order it. It was amazing. While EVERYTHING on the menu looks excellent, I had the white truffle scrambled eggs vegetable skillet and it was tasty and delicious. It came with 2 pieces of their griddled bread with was amazing and it absolutely made the meal complete. It was the best \"toast\" I've ever had. Anyway, I can't wait to go back!"
      ]
     },
     "execution_count": 13,
     "metadata": {},
     "output_type": "execute_result"
    }
   ],
   "source": [
    "doc"
   ]
  },
  {
   "cell_type": "code",
   "execution_count": 15,
   "metadata": {},
   "outputs": [
    {
     "data": {
      "text/plain": [
       "array([-2.46215858e+01, -1.90274124e+01,  7.19377747e+01,  8.20927277e+01,\n",
       "       -6.07937546e+01, -2.86508617e+01,  5.19720840e+01,  3.39311584e+02,\n",
       "        1.35662460e+02, -1.39250595e+02,  9.76114426e+01, -2.19399475e+02,\n",
       "       -2.27477913e+01,  2.81905792e+02, -7.11279144e+01,  1.42088409e+02,\n",
       "        1.24929497e+02,  1.42418289e+00,  6.53858232e+00,  1.13176949e+02,\n",
       "        2.10075607e+02, -3.05149651e+01,  1.66257286e+00,  3.60051025e+02,\n",
       "        1.58933289e+02,  1.38643036e+01, -5.43144455e+01, -2.45997372e+01,\n",
       "       -1.18162918e+00, -2.26899902e+02,  1.69192566e+02,  2.16278362e+01,\n",
       "       -9.80020618e+00, -6.02358780e+01,  4.68729095e+01, -7.90744171e+01,\n",
       "       -6.97083969e+01, -8.64268036e+01, -1.67329590e+02,  6.93418732e+01,\n",
       "       -2.77517029e+02, -2.42228027e+02,  1.85425812e+02,  3.08228302e+00,\n",
       "       -6.95421934e+00, -2.21024689e+02,  3.24142761e+01, -1.01236298e+02,\n",
       "        4.68254700e+01, -1.02515106e+02, -9.72179794e+01,  1.02005737e+02,\n",
       "        2.42138958e+00, -6.40752869e+01,  8.48830948e+01,  3.54411377e+02,\n",
       "       -1.63785141e+02, -2.53207489e+02, -6.79112549e+01, -6.56528854e+01,\n",
       "       -3.16550560e+01,  4.15352783e+01, -3.50221558e+01, -2.41150146e+02,\n",
       "        5.50988083e+01,  1.67121826e+02,  6.64776001e+01,  8.72044830e+01,\n",
       "       -2.73731079e+02,  1.00599869e+02, -1.63075439e+02, -1.39506027e+02,\n",
       "        2.82623291e+01,  6.85143127e+01, -7.38942032e+01,  1.46281815e+01,\n",
       "       -3.53837891e+01,  1.46884659e+02, -2.22342415e+01, -5.44154835e+00,\n",
       "       -1.76350815e+02,  5.95878754e+01, -6.93081818e+01,  9.82195740e+01,\n",
       "        8.07702026e+01,  8.87838058e+01,  6.03900490e+01, -3.06665325e+01,\n",
       "       -1.62949036e+02,  2.59762878e+02, -1.23877363e+01, -6.00270615e+01,\n",
       "        2.09159286e+02,  1.72982998e+01,  1.45887634e+02, -1.43982666e+02,\n",
       "        1.02724449e+02,  1.96975040e+01, -1.38501541e+02,  1.98983643e+02,\n",
       "        6.39110374e+00, -2.28769894e+01, -1.86694832e+01,  1.71194534e+01,\n",
       "       -6.06884995e+01, -7.32947083e+01, -3.79922180e+01,  6.52466431e+01,\n",
       "       -8.87289047e+00,  1.71658569e+02,  5.76398392e+01, -4.99321671e+01,\n",
       "       -8.70087738e+01, -5.21965790e+01, -1.69917648e+02, -4.18759422e+01,\n",
       "        1.17564133e+02, -1.98856144e+01,  1.97274399e+01, -5.89863739e+01,\n",
       "        1.09718285e+01, -9.04246368e+01,  8.87931671e+01,  4.24715576e+02,\n",
       "        2.78351440e+01, -5.24304924e+01, -4.45931396e+01, -7.10725403e+01,\n",
       "        4.75354156e+01, -1.27062057e+02,  9.03063812e+01,  2.29936157e+02,\n",
       "        2.19450851e+02, -1.33930725e+02, -1.60255859e+02,  9.62474823e-01,\n",
       "        8.11104889e+01, -6.39208908e+01, -2.43646240e+02, -2.68765011e+01,\n",
       "       -1.69659439e+02, -2.08027611e+01,  1.48865829e+02,  2.33495998e+00,\n",
       "        1.99655151e+01,  5.63504639e+01,  7.98558655e+01,  3.81874733e+01,\n",
       "       -4.32621536e+01, -1.01669037e+02,  6.01289635e+01, -6.04732895e+01,\n",
       "       -2.47809296e+02, -2.09755768e+02, -3.41801033e+01, -7.63501587e+01,\n",
       "       -2.04325989e+02,  1.29345428e+02,  1.72810841e+00,  9.13170319e+01,\n",
       "        1.99858673e+02, -2.46314468e+01, -1.02956886e+01,  1.63543549e+02,\n",
       "        3.55592117e+01,  1.64796112e+02, -3.54958572e+01,  2.83578552e+02,\n",
       "        4.87164001e+01,  8.92270355e+01, -1.23303764e+02, -7.00227203e+01,\n",
       "        3.35501160e+02, -9.22010727e+01, -1.07195892e+01, -1.08635269e+02,\n",
       "        4.36778755e+01,  1.19336319e+02,  1.74031540e+02, -3.56002464e+01,\n",
       "       -7.38338623e+02,  1.08870987e+02,  8.17162018e+01, -6.93639832e+01,\n",
       "        4.36548958e+01, -8.65341949e+01,  5.24793854e+01, -3.41931000e+01,\n",
       "        8.13661480e+00,  1.63743927e+02, -2.66680695e+02, -4.36233482e+01,\n",
       "       -8.08144283e+00,  3.24765396e+01,  1.79463837e+02, -9.97923126e+01,\n",
       "       -1.64503418e+02,  1.29032288e+02, -1.26351639e+02,  3.67059021e+01,\n",
       "        5.92544632e+01,  1.48659241e+02,  7.09994812e+01,  1.34952286e+02,\n",
       "       -9.39328766e+01, -8.05289001e+01,  1.90344639e+01,  4.97098694e+01,\n",
       "        2.90947056e+00, -3.51155281e-01, -2.35711426e+02,  1.54234863e+02,\n",
       "        2.39426003e+01,  7.15668335e+01, -4.12319565e+01, -9.09486618e+01,\n",
       "       -3.89762115e+01, -1.16351730e+02,  6.93874121e-01, -1.30454651e+02,\n",
       "       -7.21636505e+01, -4.04268036e+01, -3.13030579e+02,  2.54817505e+02,\n",
       "       -2.93832664e+01,  1.59545334e+02, -2.31688614e+01, -8.93012695e+01,\n",
       "        9.26062622e+01,  5.76533546e+01,  2.94854240e+01, -2.85856445e+02,\n",
       "        1.91619415e+02, -2.33797646e+01, -3.68429604e+01,  1.87680702e+01,\n",
       "       -5.78880768e+01, -2.72880974e+01,  6.08538437e+01, -5.61016769e+01,\n",
       "       -1.49459015e+02,  1.69945129e+02,  2.38124451e+02,  1.83080482e+01,\n",
       "       -6.37811584e+01,  1.17317724e+00, -1.14736679e+02,  8.01043625e+01,\n",
       "       -9.59320297e+01, -1.21209145e+02, -1.36224411e+02, -3.03624756e+02,\n",
       "        5.77194557e+01, -1.79210968e+02,  1.29259872e+02, -9.75743408e+01,\n",
       "       -1.35554810e+02, -6.65655613e+00, -8.21221008e+01,  3.50817442e+00,\n",
       "        8.62121429e+01,  1.03283951e+02,  2.01013374e+01,  6.60695801e+01,\n",
       "       -2.06357162e+02, -1.81737091e+02,  8.70891647e+01,  2.28307007e+02,\n",
       "        7.23669586e+01,  1.16172180e+02, -1.58650856e+01, -2.08429321e+02,\n",
       "        1.86784058e+01,  3.48561646e+02, -1.77486023e+02, -1.92818039e+02,\n",
       "        1.18017822e+02, -2.05041771e+01, -4.58481331e+01, -8.99308624e+01,\n",
       "        1.01275772e+02,  1.02480667e+02, -1.77468994e+02,  7.04306793e+01,\n",
       "       -1.43212328e+01, -2.14340302e+02,  1.53319025e+00, -3.04043407e+01,\n",
       "       -2.05577698e+02, -1.83768921e+02, -1.20039997e+01,  1.25816246e+02,\n",
       "       -1.69785110e+02, -1.62884766e+02,  1.81228775e+02, -4.00363083e+01,\n",
       "        1.37486908e+02,  5.32127533e+01,  1.28588608e+02, -1.54801445e+01,\n",
       "        2.33528309e+01, -4.81117706e+01,  1.15096077e+02,  2.27336487e+02,\n",
       "       -7.89283295e+01,  5.41440353e+01, -6.33749924e+01, -1.26168243e+02,\n",
       "       -1.93303552e+03,  1.52360725e+00, -8.65309525e+01, -1.80680027e+01,\n",
       "        1.02523026e+02,  8.08561611e+00,  3.99456940e+01, -1.20554726e+02,\n",
       "       -1.58243958e+02,  7.49535446e+01, -1.06629044e+02, -3.27273788e+01,\n",
       "        1.90791229e+02,  1.12963135e+02, -4.94238739e+01, -3.36489944e+01,\n",
       "        9.76536865e+01, -1.13132271e+02, -4.33316994e+01,  2.39055145e+02,\n",
       "       -4.72580490e+01, -1.81416138e+02,  7.27277679e+01, -3.78622971e+01,\n",
       "        2.74544189e+02,  2.41721146e+02, -2.62338943e+01,  1.85433807e+01,\n",
       "       -8.83853302e+01,  4.04299927e+01, -4.00565491e+01, -2.02593033e+02,\n",
       "       -4.12069511e+01,  1.04339323e+01,  1.53615936e+02, -3.42563515e+01,\n",
       "        2.72887611e+00, -2.35445984e+02, -9.99286652e+00, -1.24387054e+02,\n",
       "       -4.81015110e+00, -3.07183258e+02, -1.20525543e+02, -1.01493011e+02,\n",
       "        3.84212402e+02, -2.18030380e+02,  1.29677715e+01, -6.00382519e+00,\n",
       "        7.98833466e+01,  1.83362732e+02,  2.27311737e+02, -2.83746223e+01,\n",
       "       -6.25877991e+01,  1.76897850e+01, -1.20168400e+00, -7.27659073e+01,\n",
       "        1.07942474e+02,  3.10066254e+02, -9.36506882e+01, -2.37962799e+02,\n",
       "        4.98452263e+01, -1.92410980e+02, -2.09434296e+02,  5.23019524e+01,\n",
       "        1.22588425e+02, -1.63094711e+02, -1.84394623e+02,  5.16639061e+01,\n",
       "       -1.43175430e+02,  8.87139587e+01,  1.22939272e+01, -5.92538071e+01,\n",
       "       -1.13152031e+02, -5.08990295e+02, -2.73246918e+01, -7.78211670e+01,\n",
       "       -8.26015549e+01,  3.38933868e+01,  1.86681747e-01,  2.30805779e+00,\n",
       "       -1.64318954e+02, -2.65959534e+02,  6.82818604e+01, -3.32872696e+01,\n",
       "       -2.64963570e+01, -1.01720802e+02, -1.12062332e+02, -6.55786743e+01,\n",
       "       -1.17602585e+02, -1.36406052e+02,  8.59813538e+01,  1.44213181e+02,\n",
       "        1.05756454e+02,  1.28898376e+02,  1.10114868e+02,  1.61546539e+02,\n",
       "        1.71462296e+02, -4.74551010e+01,  4.26049500e+01, -2.97258415e+01,\n",
       "       -4.81784096e+01,  7.41398621e+00,  2.75439941e+02,  1.07521553e+02,\n",
       "        1.10408463e+02, -1.56924248e+01, -1.97756226e+02, -2.06461201e+01,\n",
       "        2.97561378e+01, -1.13342995e+02,  1.54713379e+02, -3.06334351e+02,\n",
       "        1.79637177e+02, -2.39679947e+02, -1.60342514e+02, -6.01346130e+01,\n",
       "        1.51353561e+02,  1.64951233e+02, -3.53097458e+01, -3.73295174e+01,\n",
       "       -5.25651474e+01,  2.62750488e+02, -2.85023468e+02, -1.15713402e+02,\n",
       "       -2.27387970e+02,  3.62580872e+01, -3.15391388e+01,  1.23444153e+02,\n",
       "       -2.25084419e+01, -1.37088442e+01, -7.47477417e+01, -1.10338394e+02,\n",
       "       -1.56734772e+02,  1.01811935e+02,  3.18683128e+01,  1.85008087e+01,\n",
       "       -1.02301086e+02, -4.17296356e+02,  6.12088165e+01,  2.81239738e+01,\n",
       "       -4.85377836e+00,  1.79218292e+02, -1.27476601e+02,  1.90141411e+01,\n",
       "       -8.22887573e+01,  2.21273071e+02,  6.70585022e+01, -3.90920067e+01,\n",
       "       -1.57254959e+02,  4.10969849e+01, -7.82413406e+01, -6.47107887e+00,\n",
       "        9.36727295e+01, -9.95219955e+01,  3.73810959e+01, -2.79510403e+01,\n",
       "        6.85040131e+01, -2.58837223e+01, -2.20400513e+02, -1.33190125e+02,\n",
       "        1.20814087e+02, -1.32077656e+01,  2.06498932e+02,  1.16259834e+02,\n",
       "       -9.34515152e+01,  2.68997101e+02, -8.56863594e+00, -4.59100533e+01,\n",
       "       -1.87937469e+01,  1.27248871e+02, -1.07240494e+02,  7.21188736e+01,\n",
       "       -1.90393906e+01,  2.12160358e+01, -4.69222717e+01,  1.56682770e+02,\n",
       "        1.04051514e+02, -8.75927200e+01, -4.83744907e+00,  9.59218597e+01,\n",
       "       -3.49704895e+01, -1.84876282e+02, -1.81116409e+01, -7.85581512e+01,\n",
       "        2.18306580e+02,  1.82974792e+02,  8.12195816e+01, -1.34225876e+02,\n",
       "        9.83508606e+01, -5.16188431e+01, -2.22647202e+02,  1.95097397e+02,\n",
       "       -1.21176834e+02, -1.35783539e+02, -2.50605011e+02, -3.85783630e+02,\n",
       "        1.50787140e+02, -1.17170151e+02,  8.59222336e+01,  1.03651894e+02,\n",
       "        1.52752838e+02,  4.03675117e+01, -2.11055603e+02, -3.64317131e+01,\n",
       "        1.01487343e+02, -7.62494659e+01,  1.66866302e+02,  3.99334641e+01,\n",
       "        3.86975517e+01,  6.46465607e+01, -1.98765656e+02, -2.32433441e+02,\n",
       "        3.85416985e+01, -2.19033604e+01, -8.56923294e+00, -4.93629761e+01,\n",
       "        3.62080154e+01, -8.37572327e+01, -1.40144638e+02,  1.59958782e+01,\n",
       "       -1.83929535e+02,  5.13773575e+01,  1.08952774e+02, -3.21215019e+01,\n",
       "       -2.83342957e+02, -1.38394669e+02,  3.69842033e+01,  7.66573029e+01,\n",
       "       -6.61636810e+01, -8.48507462e+01, -5.78748322e+01, -2.08065292e+02,\n",
       "        1.12998383e+02,  3.70939751e+01, -5.60597191e+01,  1.21047180e+02,\n",
       "       -7.94298096e+01, -2.47221466e+02,  7.79403839e+01,  7.16713715e+01,\n",
       "       -5.92588120e+01, -7.38058395e+01,  9.71187973e+01, -1.07727501e+02,\n",
       "        8.85900574e+01,  6.63442230e+00, -9.52072830e+01,  3.16848724e+02,\n",
       "       -4.56232414e+01,  3.09417171e+01, -2.51041336e+01,  3.42201118e+01,\n",
       "       -2.37722034e+01, -2.43647766e+02,  8.01827698e+01, -3.63390228e+02,\n",
       "       -8.13590927e+01,  7.89866486e+01, -1.09397751e+02, -3.26078644e+01,\n",
       "       -1.77605240e+02, -6.64772644e+01,  1.00872665e+02,  1.44854004e+02,\n",
       "        1.19939804e+02,  4.90338287e+01,  6.38424110e+01,  1.57402710e+02,\n",
       "       -4.33550358e+00, -8.18606720e+01,  4.75215073e+01,  2.37960529e+00,\n",
       "        4.48100204e+01, -8.29118805e+01,  8.38439331e+01,  5.93624573e+01,\n",
       "       -1.46452484e+02, -3.55383362e+02,  2.06108078e+02, -2.60278168e+02,\n",
       "       -1.09221199e+02,  2.31418896e+01,  7.88695374e+01, -1.94712029e+01,\n",
       "       -1.54935007e+01, -1.25807602e+02, -2.32401714e+01,  9.17287445e+01,\n",
       "        1.06789360e+01, -1.52958813e+01,  1.65891754e+02,  1.42323761e+02,\n",
       "        4.33674011e+01,  3.71557884e+01,  3.31616211e+01,  1.08410431e+02,\n",
       "        2.97143860e+02, -2.32636471e+01, -8.73876419e+01,  8.00809174e+01,\n",
       "       -4.84460487e+01, -5.56448250e+01,  7.41462021e+01,  7.38324432e+01,\n",
       "       -1.23673035e+02,  7.67719574e+01,  1.24335754e+02, -1.73110123e+02,\n",
       "        9.15702515e+01,  1.20760368e+02, -9.01947784e+00, -1.54437668e+02,\n",
       "        2.30169281e+02,  2.43628433e+02, -1.40772873e+02, -1.83478851e+02,\n",
       "       -7.76275330e+01, -2.40465424e+02, -4.65021858e+01,  1.59109833e+02,\n",
       "        8.98288345e+01, -8.56117859e+01,  2.00943100e+02,  2.36003418e+01,\n",
       "        1.06733047e+02,  2.89673401e+02, -1.56704315e+02, -1.24638611e+02,\n",
       "       -3.44719925e+01,  1.70730728e+02, -1.19923904e+02,  1.24913544e+02,\n",
       "       -1.76040955e+02,  1.57432388e+02, -6.41821442e+01, -1.70010651e+02,\n",
       "       -9.03158188e+00, -5.73394012e+01,  4.89111786e+01,  6.66549377e+01,\n",
       "       -9.98834686e+01,  4.03117371e+01,  2.21934891e+02,  1.88177124e+02,\n",
       "        8.53479538e+01,  1.10615723e+02,  1.77338562e+02, -4.81344604e+01,\n",
       "        3.35820404e+02,  5.81129990e+01,  4.83023834e+01,  2.44864883e+02,\n",
       "        1.36674850e+02,  7.97824783e+01,  5.22538223e+01,  1.92427246e+02,\n",
       "       -2.86835480e+00,  5.96158218e+01, -7.14572601e+01,  3.08078064e+02,\n",
       "        6.83401947e+01, -1.60558796e+00,  6.33311882e+01, -2.00067169e+02,\n",
       "       -8.15038910e+01,  1.04599640e+02,  1.40095158e+01, -4.49586105e+01,\n",
       "       -8.15009995e+01, -9.78703880e+00,  7.85324097e+01,  1.83403320e+01,\n",
       "       -3.35341835e+01, -6.85540924e+01, -1.43037994e+02,  2.03800903e+02,\n",
       "       -5.08361588e+01,  4.62661934e+01, -1.74309483e+01,  2.00357265e+01,\n",
       "       -6.36286545e+00, -3.02274017e+01, -2.04948517e+02, -1.45417442e+01,\n",
       "        7.75504379e+01, -1.14991966e+02, -7.36953430e+01, -1.91092987e+02,\n",
       "        4.04535828e+01, -1.33600052e+02,  9.34987411e+01, -6.47798615e+01,\n",
       "        4.63424644e+01, -1.18420944e+02,  5.58736153e+01, -7.56176300e+01,\n",
       "        1.66171646e+02,  6.73893585e+01,  1.78450134e+02, -3.14345875e+01,\n",
       "        9.77075195e+01, -7.58577194e+01,  1.54041338e+01,  1.76058167e+02,\n",
       "        1.65676079e+01,  1.35265808e+02, -1.86052685e+01,  1.07489624e+02,\n",
       "       -2.24169800e+02, -7.05056076e+01,  6.86467266e+00,  2.26863159e+02,\n",
       "       -3.87410645e+02,  4.34553299e+01, -5.58735504e+01, -1.04157562e+02,\n",
       "        1.73211403e+01,  1.93848152e+01, -8.65499420e+01,  6.14812183e+00,\n",
       "       -1.77398499e+02, -1.11917694e+02,  4.90371799e+00,  1.06465767e+02,\n",
       "       -8.58765411e+01, -1.00694786e+02,  1.44522888e+02,  9.43016510e+01,\n",
       "       -8.97237015e+01,  2.33048706e+01,  3.43384476e+01,  1.21189148e+02,\n",
       "        1.67884796e+02,  1.14498301e+01, -7.85757303e+00, -2.31750965e+01,\n",
       "       -2.46928787e+00, -1.08582916e+01, -1.07692047e+02, -8.23373947e+01,\n",
       "        1.77825806e+02,  1.70741745e+02, -1.10759296e+01, -1.03092346e+02,\n",
       "        7.49284439e+01, -8.07660828e+01,  8.63277245e+00, -1.37725449e+02,\n",
       "       -9.80158386e+01, -2.13154663e+02, -9.14233704e+01, -1.06709457e+02,\n",
       "        8.06622238e+01, -1.36431778e+02, -3.31495361e+01, -1.42615799e+02,\n",
       "        5.74233055e+01,  3.41554832e+01,  1.23855103e+02, -7.06360245e+01],\n",
       "      dtype=float32)"
      ]
     },
     "execution_count": 15,
     "metadata": {},
     "output_type": "execute_result"
    }
   ],
   "source": [
    "doc.vector + df.spacy[1].vector"
   ]
  },
  {
   "cell_type": "code",
   "execution_count": null,
   "metadata": {},
   "outputs": [],
   "source": []
  }
 ],
 "metadata": {
  "kernelspec": {
   "display_name": "Python 3",
   "language": "python",
   "name": "python3"
  },
  "language_info": {
   "codemirror_mode": {
    "name": "ipython",
    "version": 3
   },
   "file_extension": ".py",
   "mimetype": "text/x-python",
   "name": "python",
   "nbconvert_exporter": "python",
   "pygments_lexer": "ipython3",
   "version": "3.7.4"
  }
 },
 "nbformat": 4,
 "nbformat_minor": 4
}
